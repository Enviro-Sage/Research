{
 "cells": [
  {
   "cell_type": "code",
   "execution_count": 2,
   "metadata": {},
   "outputs": [
    {
     "name": "stdout",
     "output_type": "stream",
     "text": [
      "Cleaned dataset saved as: cleaned_bin_data_no_scaling.csv\n",
      "      Bin ID  Fullness  fullnessThreshold  timestamp     reason  year  month  \\\n",
      "64   1510830         6                  6 2018-06-26   FULLNESS  2018      6   \n",
      "96   1510830         0                  6 2018-06-27  NOT_READY  2018      6   \n",
      "128  1510830         2                  6 2018-06-28  NOT_READY  2018      6   \n",
      "160  1510830         8                  6 2018-06-29   FULLNESS  2018      6   \n",
      "192  1510830         6                  6 2018-06-30   FULLNESS  2018      6   \n",
      "\n",
      "     day  day_of_week  fullness_change  \n",
      "64    26            1              0.0  \n",
      "96    27            2             -6.0  \n",
      "128   28            3              2.0  \n",
      "160   29            4              6.0  \n",
      "192   30            5             -2.0  \n"
     ]
    }
   ],
   "source": [
    "import pandas as pd\n",
    "\n",
    "# Load dataset\n",
    "file_path = \"data.csv\"  # Replace with the actual file path\n",
    "df = pd.read_csv(file_path)\n",
    "\n",
    "# Convert timestamp column to datetime format\n",
    "df['timestamp'] = pd.to_datetime(df['timestamp'], dayfirst=True, errors='coerce')\n",
    "\n",
    "# Drop rows with missing timestamps\n",
    "df = df.dropna(subset=['timestamp'])\n",
    "\n",
    "# Sort the dataframe by Bin ID and timestamp\n",
    "df = df.sort_values(by=['Bin ID', 'timestamp'])\n",
    "# df = df.replace({\"Fullness\":{0:0,1:0,2:0,3:0,4:1,5:1,6:1,7:2,8:2,9:2,10:2}})\n",
    "\n",
    "# Extract useful time-based features\n",
    "df['year'] = df['timestamp'].dt.year\n",
    "df['month'] = df['timestamp'].dt.month\n",
    "df['day'] = df['timestamp'].dt.day\n",
    "df['day_of_week'] = df['timestamp'].dt.dayofweek\n",
    "\n",
    "# Compute the change in fullness level (trend indicator) but **DO NOT normalize fullness values**\n",
    "df['fullness_change'] = df.groupby('Bin ID')['Fullness'].diff().fillna(0)\n",
    "\n",
    "# Save the cleaned dataset\n",
    "cleaned_file_path = \"cleaned_bin_data_no_scaling.csv\"\n",
    "df.to_csv(cleaned_file_path, index=False)\n",
    "\n",
    "# Display success message\n",
    "print(f\"Cleaned dataset saved as: {cleaned_file_path}\")\n",
    "\n",
    "# Display the first few rows\n",
    "print(df.head())\n"
   ]
  },
  {
   "cell_type": "code",
   "execution_count": null,
   "metadata": {},
   "outputs": [],
   "source": []
  }
 ],
 "metadata": {
  "kernelspec": {
   "display_name": "Python 3",
   "language": "python",
   "name": "python3"
  },
  "language_info": {
   "codemirror_mode": {
    "name": "ipython",
    "version": 3
   },
   "file_extension": ".py",
   "mimetype": "text/x-python",
   "name": "python",
   "nbconvert_exporter": "python",
   "pygments_lexer": "ipython3",
   "version": "3.12.7"
  }
 },
 "nbformat": 4,
 "nbformat_minor": 2
}
