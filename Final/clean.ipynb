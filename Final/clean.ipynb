{
 "cells": [
  {
   "cell_type": "code",
   "execution_count": 2,
   "metadata": {},
   "outputs": [
    {
     "name": "stdout",
     "output_type": "stream",
     "text": [
      "Cleaned dataset saved as: cleaned_bin_data_no_scaling.csv\n",
      "   dustbin_id  latitude  longitude  Fullness        date   time day_of_week  \\\n",
      "0      112821   19.2183    72.9781         1  2023-07-01   9:00    Saturday   \n",
      "1      112821   19.2183    72.9781         1  2023-07-01  10:00    Saturday   \n",
      "2      112821   19.2183    72.9781         1  2023-07-01  11:00    Saturday   \n",
      "3      112821   19.2183    72.9781         2  2023-07-01  12:00    Saturday   \n",
      "4      112821   19.2183    72.9781         2  2023-07-01  13:00    Saturday   \n",
      "\n",
      "   is_holiday holiday_name  \n",
      "0       False          NaN  \n",
      "1       False          NaN  \n",
      "2       False          NaN  \n",
      "3       False          NaN  \n",
      "4       False          NaN  \n"
     ]
    }
   ],
   "source": [
    "import pandas as pd\n",
    "\n",
    "# Load dataset\n",
    "file_path = \"synthetic_waste_data.csv\"  # Replace with the actual file path\n",
    "df = pd.read_csv(file_path)\n",
    "\n",
    "# Convert timestamp column to datetime format\n",
    "\n",
    "# Drop rows with missing timestamps\n",
    "\n",
    "# Sort the dataframe by Bin ID and timestamp\n",
    "df = df.replace({\"Fullness\":{0:0,1:0,2:0,3:0,4:1,5:1,6:1,7:2,8:2,9:2,10:2}})\n",
    "\n",
    "# Compute the change in fullness level (trend indicator) but **DO NOT normalize fullness values**\n",
    "\n",
    "# Save the cleaned dataset\n",
    "cleaned_file_path = \"cleaned_bin_data_no_scaling.csv\"\n",
    "df.to_csv(cleaned_file_path, index=False)\n",
    "\n",
    "# Display success message\n",
    "print(f\"Cleaned dataset saved as: {cleaned_file_path}\")\n",
    "\n",
    "# Display the first few rows\n",
    "print(df.head())"
   ]
  }
 ],
 "metadata": {
  "kernelspec": {
   "display_name": "Python 3",
   "language": "python",
   "name": "python3"
  },
  "language_info": {
   "codemirror_mode": {
    "name": "ipython",
    "version": 3
   },
   "file_extension": ".py",
   "mimetype": "text/x-python",
   "name": "python",
   "nbconvert_exporter": "python",
   "pygments_lexer": "ipython3",
   "version": "3.12.7"
  }
 },
 "nbformat": 4,
 "nbformat_minor": 2
}
