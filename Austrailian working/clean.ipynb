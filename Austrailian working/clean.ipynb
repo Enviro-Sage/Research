{
 "cells": [
  {
   "cell_type": "code",
   "execution_count": null,
   "metadata": {},
   "outputs": [
    {
     "name": "stdout",
     "output_type": "stream",
     "text": [
      "Cleaned dataset saved as: cleaned_bin_data_no_scaling.csv\n",
      "       Bin ID  Fullness  fullnessThreshold  timestamp    reason  year  month  \\\n",
      "64    1510830         6                  6 2018-06-26  FULLNESS  2018      6   \n",
      "160   1510830         8                  6 2018-06-29  FULLNESS  2018      6   \n",
      "192   1510830         6                  6 2018-06-30  FULLNESS  2018      6   \n",
      "424   1510830         6                  6 2018-07-06  FULLNESS  2018      7   \n",
      "1336  1510830         6                  6 2018-07-11  FULLNESS  2018      7   \n",
      "\n",
      "      day  day_of_week  fullness_change  \n",
      "64     26            1              0.0  \n",
      "160    29            4              2.0  \n",
      "192    30            5             -2.0  \n",
      "424     6            4              0.0  \n",
      "1336   11            2              0.0  \n"
     ]
    },
    {
     "ename": "",
     "evalue": "",
     "output_type": "error",
     "traceback": [
      "\u001b[1;31mThe Kernel crashed while executing code in the current cell or a previous cell. \n",
      "\u001b[1;31mPlease review the code in the cell(s) to identify a possible cause of the failure. \n",
      "\u001b[1;31mClick <a href='https://aka.ms/vscodeJupyterKernelCrash'>here</a> for more info. \n",
      "\u001b[1;31mView Jupyter <a href='command:jupyter.viewOutput'>log</a> for further details."
     ]
    }
   ],
   "source": [
    "import pandas as pd\n",
    "\n",
    "# Load dataset\n",
    "file_path = \"data.csv\"  # Replace with the actual file path\n",
    "df = pd.read_csv(file_path)\n",
    "\n",
    "# Convert timestamp column to datetime format\n",
    "df['timestamp'] = pd.to_datetime(df['timestamp'], dayfirst=True, errors='coerce')\n",
    "\n",
    "# Drop rows with missing timestamps\n",
    "df = df.dropna(subset=['timestamp'])\n",
    "\n",
    "# Sort the dataframe by Bin ID and timestamp\n",
    "df = df.sort_values(by=['Bin ID', 'timestamp'])\n",
    "\n",
    "# Remove duplicate rows if any\n",
    "df = df.drop_duplicates()\n",
    "\n",
    "# Filter out rows where reason is 'NOT_READY' (if not useful for forecasting)\n",
    "df = df[df['reason'] != 'NOT_READY']\n",
    "\n",
    "# Extract useful time-based features\n",
    "df['year'] = df['timestamp'].dt.year\n",
    "df['month'] = df['timestamp'].dt.month\n",
    "df['day'] = df['timestamp'].dt.day\n",
    "df['day_of_week'] = df['timestamp'].dt.dayofweek\n",
    "\n",
    "# Compute the change in fullness level (trend indicator) but **DO NOT normalize fullness values**\n",
    "df['fullness_change'] = df.groupby('Bin ID')['Fullness'].diff().fillna(0)\n",
    "\n",
    "# Save the cleaned dataset\n",
    "cleaned_file_path = \"cleaned_bin_data_no_scaling.csv\"\n",
    "df.to_csv(cleaned_file_path, index=False)\n",
    "\n",
    "# Display success message\n",
    "print(f\"Cleaned dataset saved as: {cleaned_file_path}\")\n",
    "\n",
    "# Display the first few rows\n",
    "print(df.head())\n"
   ]
  },
  {
   "cell_type": "code",
   "execution_count": null,
   "metadata": {},
   "outputs": [],
   "source": []
  }
 ],
 "metadata": {
  "kernelspec": {
   "display_name": "Python 3",
   "language": "python",
   "name": "python3"
  },
  "language_info": {
   "codemirror_mode": {
    "name": "ipython",
    "version": 3
   },
   "file_extension": ".py",
   "mimetype": "text/x-python",
   "name": "python",
   "nbconvert_exporter": "python",
   "pygments_lexer": "ipython3",
   "version": "3.12.7"
  }
 },
 "nbformat": 4,
 "nbformat_minor": 2
}
